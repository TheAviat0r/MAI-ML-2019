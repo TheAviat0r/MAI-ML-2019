{
 "cells": [
  {
   "cell_type": "markdown",
   "metadata": {},
   "source": [
    "Семинар будет разделен на несколько частей. В части 1 мы разберем самостоятельную реализацию решающего дерева, а в части 2 - ознакомимся с соответствующим функционалом sklearn"
   ]
  },
  {
   "cell_type": "markdown",
   "metadata": {},
   "source": [
    "## Часть 1. Решающее дерево с нуля"
   ]
  },
  {
   "cell_type": "code",
   "execution_count": 101,
   "metadata": {},
   "outputs": [],
   "source": [
    "\"\"\"\n",
    "    Простой датасет\n",
    "    Задача - классифицировать фрукт по его цвету и диаметру.\n",
    "    Колонка 1 - цвет\n",
    "    Колонка 2 - диаметр фрукта (1 -\n",
    "                маленький, 2 - средний, 3 - большой)\n",
    "    Колонка 3 - название фрукта, целевая переменная\n",
    "\"\"\"\n",
    "\n",
    "header = [\"color\", \"diameter\", \"label\"]\n",
    "\n",
    "training_data = [\n",
    "    ['Green', 3, 'Apple'],\n",
    "    ['Yellow', 3, 'Apple'],\n",
    "    ['Red', 1, 'Grape'],\n",
    "    ['Red', 1, 'Grape'],\n",
    "    ['Yellow', 2, 'Lemon'],\n",
    "]"
   ]
  },
  {
   "cell_type": "markdown",
   "metadata": {},
   "source": [
    "Также нам необходимо реализовать некоторые сопутствующие функции,\n",
    "например:\n",
    "\n",
    "- Кол-во уникальных значений в колонке\n",
    "- Кол-во объектов каждого класса"
   ]
  },
  {
   "cell_type": "code",
   "execution_count": 13,
   "metadata": {},
   "outputs": [],
   "source": [
    "def unique_values(rows, col):\n",
    "    return {row[col] for row in rows}\n",
    "\n",
    "def class_counts(rows):\n",
    "    counts = {}\n",
    "    \n",
    "    for row in rows:\n",
    "        label = row[2]\n",
    "        if label in counts:\n",
    "            counts[label] += 1\n",
    "        else:\n",
    "            counts[label] = 1\n",
    "            \n",
    "    return counts\n",
    "            \n",
    "def is_numeric(val):\n",
    "    return isinstance(val, int) or isinstance(val, float)"
   ]
  },
  {
   "cell_type": "code",
   "execution_count": 10,
   "metadata": {},
   "outputs": [
    {
     "data": {
      "text/plain": [
       "{'Green', 'Red', 'Yellow'}"
      ]
     },
     "execution_count": 10,
     "metadata": {},
     "output_type": "execute_result"
    }
   ],
   "source": [
    "unique_values(training_data, 0)"
   ]
  },
  {
   "cell_type": "code",
   "execution_count": 11,
   "metadata": {},
   "outputs": [
    {
     "data": {
      "text/plain": [
       "{'Apple': 2, 'Grape': 2, 'Lemon': 1}"
      ]
     },
     "execution_count": 11,
     "metadata": {},
     "output_type": "execute_result"
    }
   ],
   "source": [
    "class_counts(training_data)"
   ]
  },
  {
   "cell_type": "code",
   "execution_count": 14,
   "metadata": {},
   "outputs": [
    {
     "data": {
      "text/plain": [
       "True"
      ]
     },
     "execution_count": 14,
     "metadata": {},
     "output_type": "execute_result"
    }
   ],
   "source": [
    "is_numeric(7)"
   ]
  },
  {
   "cell_type": "code",
   "execution_count": 15,
   "metadata": {},
   "outputs": [
    {
     "data": {
      "text/plain": [
       "False"
      ]
     },
     "execution_count": 15,
     "metadata": {},
     "output_type": "execute_result"
    }
   ],
   "source": [
    "is_numeric(\"Dummy string\")"
   ]
  },
  {
   "cell_type": "code",
   "execution_count": 29,
   "metadata": {},
   "outputs": [],
   "source": [
    "class Question:\n",
    "    \"\"\"\n",
    "    Объект данного класса представляет из себя вопрос (или предикат,\n",
    "    если выражаться математическим термином), с помощью которого\n",
    "    происходит разбиение датасета.\n",
    "    \n",
    "    Записывает только номер колонки и ее значение. Метод match\n",
    "    используется для сравнения значения признака с значением, по\n",
    "    которому происходит сплит.\n",
    "\n",
    "    Условимся, что если признак является численным, то происходит\n",
    "    сравнение '>=', иначе - '=='\n",
    "    \"\"\"\n",
    "    \n",
    "    def __init__(self, column, value):\n",
    "        self.column = column\n",
    "        self.value = value\n",
    "        \n",
    "    def match(self, example):\n",
    "        feature_value = example[self.column]\n",
    "        \n",
    "        if is_numeric(feature_value) != is_numeric(self.value):\n",
    "            raise ValueException(f\"Feature value and split value have different types - {type(self.value)}, {type(feature_value)}\")\n",
    "            \n",
    "        if is_numeric(feature_value):\n",
    "            return feature_value >= self.value\n",
    "        else:\n",
    "            return feature_value == self.value\n",
    "        \n",
    "    def __repr__(self):\n",
    "        condition = \"==\"\n",
    "        if is_numeric(self.value):\n",
    "            condition = \">=\"\n",
    "        \n",
    "        return f\"Is {header[self.column]} {condition} {self.value}\""
   ]
  },
  {
   "cell_type": "markdown",
   "metadata": {},
   "source": [
    "Теперь рассмотрим поведение Question в случае численного признака"
   ]
  },
  {
   "cell_type": "code",
   "execution_count": 30,
   "metadata": {},
   "outputs": [
    {
     "data": {
      "text/plain": [
       "Is diameter >= 3"
      ]
     },
     "execution_count": 30,
     "metadata": {},
     "output_type": "execute_result"
    }
   ],
   "source": [
    "Question(1, 3)"
   ]
  },
  {
   "cell_type": "markdown",
   "metadata": {},
   "source": [
    "Аналогично для категориального"
   ]
  },
  {
   "cell_type": "code",
   "execution_count": 35,
   "metadata": {},
   "outputs": [
    {
     "data": {
      "text/plain": [
       "Is label == Apple"
      ]
     },
     "execution_count": 35,
     "metadata": {},
     "output_type": "execute_result"
    }
   ],
   "source": [
    "q = Question(2, \"Apple\")\n",
    "q"
   ]
  },
  {
   "cell_type": "markdown",
   "metadata": {},
   "source": [
    "Проверим как работает метод match"
   ]
  },
  {
   "cell_type": "code",
   "execution_count": 36,
   "metadata": {},
   "outputs": [
    {
     "data": {
      "text/plain": [
       "True"
      ]
     },
     "execution_count": 36,
     "metadata": {},
     "output_type": "execute_result"
    }
   ],
   "source": [
    "match_example = training_data[0]\n",
    "q.match(match_example)"
   ]
  },
  {
   "cell_type": "code",
   "execution_count": 79,
   "metadata": {},
   "outputs": [],
   "source": [
    "def split_partition(rows, split_question):\n",
    "    \"\"\"\n",
    "    Разбить исходные записи rows при помощи\n",
    "    вопроса (предиката) question на две части.\n",
    "    Слева - те записи, для которых question.match == False,\n",
    "    Справа - записи, для которых question.match == True\n",
    "    \"\"\"\n",
    "    \n",
    "    left_partition = []\n",
    "    right_partition = []\n",
    "    \n",
    "    for row in rows:\n",
    "        if split_question.match(row):\n",
    "            right_partition.append(row)\n",
    "        else:\n",
    "            left_partition.append(row)\n",
    "            \n",
    "    return left_partition, right_partition"
   ]
  },
  {
   "cell_type": "markdown",
   "metadata": {},
   "source": [
    "Сразу напишем небольшой тест нашего сплита"
   ]
  },
  {
   "cell_type": "code",
   "execution_count": 80,
   "metadata": {},
   "outputs": [],
   "source": [
    "def test_split_partition():\n",
    "    has_errors = False\n",
    "    \n",
    "    text_question = Question(0, \"Red\")\n",
    "    false_rows, true_rows = split_partition(training_data, Question(0, \"Red\"))\n",
    "    \n",
    "    for row in false_rows:\n",
    "        if row[0] == text_question.value:\n",
    "            print(\"Error in false partition for text!\")\n",
    "            print(f\"Left: {false_rows}\")\n",
    "            has_errors = True\n",
    "    \n",
    "    for row in true_rows:\n",
    "        if row[0] != text_question.value:\n",
    "            print(\"Error in true partition for text!\")\n",
    "            print(f\"Right: {true_rows}\")\n",
    "            has_errors = True\n",
    "            \n",
    "    if has_errors:\n",
    "        raise RuntimeError(\"Split partition test is not passed, stopping right now\")\n",
    "        \n",
    "    \"\"\"\n",
    "    Тест для сплита численных колонок предлагаю написать самим\n",
    "    \"\"\"\n",
    "        \n",
    "test_split_partition()"
   ]
  },
  {
   "cell_type": "markdown",
   "metadata": {},
   "source": [
    "**Что мы имеем на текущий момент**:\n",
    "- Вопрос или же предикат, который мы используем для разбиения\n",
    "- Функцию, бьющую исходную поданную выборку на 2 части согласно этому вопросу\n",
    "\n",
    "\n",
    "**Что нам нужно**:\n",
    "- Критерий разбиения (какой-нибудь один для примера)\n",
    "- Information Gain\n",
    "- Классы, методы для создания и работы с деревом"
   ]
  },
  {
   "cell_type": "markdown",
   "metadata": {},
   "source": [
    "### Gini impurity\n",
    "\n",
    "Более подробно см. https://en.wikipedia.org/wiki/Decision_tree_learning#Gini_impurity\n",
    "За основу реализации возьмем именно этот подход"
   ]
  },
  {
   "cell_type": "code",
   "execution_count": 81,
   "metadata": {},
   "outputs": [],
   "source": [
    "def gini(rows):\n",
    "    counts = class_counts(rows)\n",
    "    impurity = 1\n",
    "    \n",
    "    for label in counts:\n",
    "        label_probability = counts[label] / float(len(rows))\n",
    "        impurity -= label_probability ** 2\n",
    "        \n",
    "    return impurity"
   ]
  },
  {
   "cell_type": "markdown",
   "metadata": {},
   "source": [
    "Пара примеров для понимания того, как работает наш критерий.\n",
    "\n",
    "Рассмотрим первый случай - полностью однородная выборка, тогда gini должен быть равен 1"
   ]
  },
  {
   "cell_type": "code",
   "execution_count": 82,
   "metadata": {},
   "outputs": [
    {
     "data": {
      "text/plain": [
       "0.0"
      ]
     },
     "execution_count": 82,
     "metadata": {},
     "output_type": "execute_result"
    }
   ],
   "source": [
    "non_mixed_data = [\"Red\", \"Red\"]\n",
    "gini(non_mixed_data)"
   ]
  },
  {
   "cell_type": "markdown",
   "metadata": {},
   "source": [
    "Рассмотрим второй случай - неоднородная выборка, в которой шанс неверной классификации 50%"
   ]
  },
  {
   "cell_type": "code",
   "execution_count": 83,
   "metadata": {},
   "outputs": [
    {
     "data": {
      "text/plain": [
       "0.5"
      ]
     },
     "execution_count": 83,
     "metadata": {},
     "output_type": "execute_result"
    }
   ],
   "source": [
    "mixed_data = [\"Red\", \"Green\"]\n",
    "gini(mixed_data)"
   ]
  },
  {
   "cell_type": "markdown",
   "metadata": {},
   "source": [
    "И третий - более неоднородная выборка, где шанс missclasfication еще выше"
   ]
  },
  {
   "cell_type": "code",
   "execution_count": 84,
   "metadata": {},
   "outputs": [
    {
     "data": {
      "text/plain": [
       "0.6666666666666665"
      ]
     },
     "execution_count": 84,
     "metadata": {},
     "output_type": "execute_result"
    }
   ],
   "source": [
    "super_mixed_data = [\"Red\", \"Green\", \"Orange\"]\n",
    "gini(super_mixed_data)"
   ]
  },
  {
   "cell_type": "markdown",
   "metadata": {},
   "source": [
    "### Information Gain"
   ]
  },
  {
   "cell_type": "code",
   "execution_count": 85,
   "metadata": {},
   "outputs": [],
   "source": [
    "def info_gain(left, right, current, criterion=gini):\n",
    "    \"\"\"\n",
    "    Information Gain.\n",
    "    \n",
    "    Значение критерия на текущей выборке минус взвешенное\n",
    "    значение суммы левой и правой подвыборок.\n",
    "    \"\"\"\n",
    "    \n",
    "    p = float(len(left)) / (len(left) + len(right))\n",
    "    current_uncertainty = criterion(current)\n",
    "    \n",
    "    return current_uncertainty - p * gini(left) - (1 - p) * gini(right)"
   ]
  },
  {
   "cell_type": "markdown",
   "metadata": {},
   "source": [
    "Посчитаем наш Information Gain после нашего сплита по предикату на красный цвет"
   ]
  },
  {
   "cell_type": "code",
   "execution_count": 71,
   "metadata": {},
   "outputs": [
    {
     "data": {
      "text/plain": [
       "Is color == Red"
      ]
     },
     "execution_count": 71,
     "metadata": {},
     "output_type": "execute_result"
    }
   ],
   "source": [
    "question = Question(0, \"Red\")\n",
    "question"
   ]
  },
  {
   "cell_type": "code",
   "execution_count": 72,
   "metadata": {},
   "outputs": [],
   "source": [
    "left, right = split_partition(training_data, Question(0, \"Red\"))"
   ]
  },
  {
   "cell_type": "code",
   "execution_count": 73,
   "metadata": {},
   "outputs": [
    {
     "data": {
      "text/plain": [
       "0.37333333333333324"
      ]
     },
     "execution_count": 73,
     "metadata": {},
     "output_type": "execute_result"
    }
   ],
   "source": [
    "info_gain(left, right, training_data)"
   ]
  },
  {
   "cell_type": "code",
   "execution_count": 74,
   "metadata": {},
   "outputs": [
    {
     "data": {
      "text/plain": [
       "[['Green', 3, 'Apple'], ['Yellow', 3, 'Apple'], ['Yellow', 3, 'Lemon']]"
      ]
     },
     "execution_count": 74,
     "metadata": {},
     "output_type": "execute_result"
    }
   ],
   "source": [
    "left"
   ]
  },
  {
   "cell_type": "code",
   "execution_count": 75,
   "metadata": {},
   "outputs": [
    {
     "data": {
      "text/plain": [
       "[['Red', 1, 'Grape'], ['Red', 1, 'Grape']]"
      ]
     },
     "execution_count": 75,
     "metadata": {},
     "output_type": "execute_result"
    }
   ],
   "source": [
    "right"
   ]
  },
  {
   "cell_type": "markdown",
   "metadata": {},
   "source": [
    "Как видно выше, данный сплит является правильным с точки зрения прироста информации\n",
    "\n",
    "Вернемся к тому, что у нас есть на текущий момент. Мы:\n",
    "\n",
    "- Умеем разбивать исходную выборку на подвыборки\n",
    "- У нас есть критерий того, насколько хороша текущая выборка с точки\n",
    "  зрения однородности (Gini)\n",
    "- У нас есть метрика, которая однозначно показывает, насколько хорошо\n",
    "  наше разбиение на левые и правые подвыборки\n",
    "  \n",
    "Нам осталось:\n",
    "\n",
    "- Для каждой выборки находить наилучшее разбиение\n",
    "- Реализовать жадный алгоритм построения дерева"
   ]
  },
  {
   "cell_type": "markdown",
   "metadata": {},
   "source": [
    "### Наилучшее разбиение выборки\n",
    "\n",
    "Допустим исходная выборка состоит из нескольких записей. Каждая запись соответствует какому-то объекту,\n",
    "в нашем случае это фрукт. У этого объекта есть несколько атрибутов - признаков.\n",
    "Поэтому для того, чтобы найти наилучшее разбиение, надо пройтись по:\n",
    "\n",
    "1) Признакам\n",
    "\n",
    "2) Значениям этих признаков\n",
    "\n",
    "Сравнивать различные разбиения между собой будем при помощи Information Gain,\n",
    "который мы получили ранее. Наилучшее разбиение - то, которое имеет наибольший\n",
    "Information Gain.\n",
    "\n",
    "Имея данный четкий критерий, реализуем функцию *find_best_split*"
   ]
  },
  {
   "cell_type": "code",
   "execution_count": 89,
   "metadata": {},
   "outputs": [
    {
     "name": "stdout",
     "output_type": "stream",
     "text": [
      "Best gain 0.37333333333333324 at question:\n",
      "Is diameter >= 3\n"
     ]
    }
   ],
   "source": [
    "def find_best_split(rows, debug=False):\n",
    "    best_gain = 0\n",
    "    best_question = None # предикат, дающий наибольший Information Gain\n",
    "    current = rows\n",
    "    n_features = len(rows[0]) - 1 # количество колонок с признаками\n",
    "    \n",
    "    # Сначала итерируемся по всем признакам, которые у нас есть\n",
    "    for col_idx in range(n_features):\n",
    "        values = set(row[col_idx] for row in rows)\n",
    "        \n",
    "        # Затем итерируемся по значениям этих признаков\n",
    "        for val in values:\n",
    "            split_question = Question(col_idx, val)\n",
    "            \n",
    "            left, right = split_partition(current, split_question)\n",
    "            gain = info_gain(left, right, current, criterion=gini)\n",
    "            \n",
    "            if gain >= best_gain:\n",
    "                best_gain = gain\n",
    "                best_question = split_question\n",
    "            \n",
    "            if debug:\n",
    "                print(f\"Gain - {gain}, question - {split_question}\")\n",
    "                \n",
    "    return best_gain, best_question\n",
    "\n",
    "best_gain, best_question = find_best_split(training_data)\n",
    "\n",
    "print(f\"Best gain {best_gain} at question:\\n{best_question}\")"
   ]
  },
  {
   "cell_type": "markdown",
   "metadata": {},
   "source": [
    "Теперь мы имеем функционал, который позволяет нам находить наилучший сплит.\n",
    "На текущем этапе мы имеем все необходимое, чтобы реализовать решающее дерево.\n",
    "Приступим к этому."
   ]
  },
  {
   "cell_type": "code",
   "execution_count": 103,
   "metadata": {},
   "outputs": [
    {
     "name": "stdout",
     "output_type": "stream",
     "text": [
      "Is diameter >= 3\n",
      "--> True:\n",
      "      predictions: {'Apple': 2}\n",
      "--> False:\n",
      "   Is diameter >= 2\n",
      "   --> True:\n",
      "         predictions: {'Lemon': 1}\n",
      "   --> False:\n",
      "         predictions: {'Grape': 2}\n"
     ]
    }
   ],
   "source": [
    "class Leaf:\n",
    "    \"\"\"\n",
    "    Объект, который хранит в себе количество меток.\n",
    "    Вся остальная информация будет храниться в узлах.\n",
    "    \"\"\"\n",
    "    def __init__(self, rows):\n",
    "        self.predictions = class_counts(rows)\n",
    "        \n",
    "class DecisionNode:\n",
    "    \"\"\"\n",
    "    Узел нашего решающего дерева\n",
    "    \"\"\"\n",
    "    def __init__(self, question, left_branch, right_branch):\n",
    "        self.question = question\n",
    "        self.left_branch = left_branch\n",
    "        self.right_branch = right_branch\n",
    "        \n",
    "def build_tree(rows):\n",
    "    \"\"\"\n",
    "    Рекурсивный алгоритм, условие остановки - Information Gain == 0\n",
    "    \"\"\"\n",
    "    \n",
    "    gain, question = find_best_split(rows)\n",
    "    \n",
    "    if gain == 0:\n",
    "        return Leaf(rows)\n",
    "    \n",
    "    left_rows, right_rows = split_partition(rows, question)\n",
    "    left_branch = build_tree(left_rows)\n",
    "    right_branch = build_tree(right_rows)\n",
    "    \n",
    "    return DecisionNode(question, left_branch, right_branch)\n",
    "\n",
    "def print_tree(decision_tree, spacing=\"\"):\n",
    "    if isinstance(decision_tree, Leaf):\n",
    "        print(spacing + \"   predictions: \" + str(decision_tree.predictions))\n",
    "        return\n",
    "    \n",
    "    print(spacing + str(decision_tree.question))\n",
    "    \n",
    "    if decision_tree.right_branch:\n",
    "        print(spacing + \"--> True:\")\n",
    "        print_tree(decision_tree.right_branch, spacing + \"   \")\n",
    "    \n",
    "    if decision_tree.left_branch:\n",
    "        print(spacing + \"--> False:\")\n",
    "        print_tree(decision_tree.left_branch, spacing + \"   \")\n",
    "    \n",
    "tree = build_tree(training_data)\n",
    "\n",
    "print_tree(tree)"
   ]
  },
  {
   "cell_type": "markdown",
   "metadata": {},
   "source": [
    "### Алгоритм обхода дерева\n",
    "\n",
    "Теперь мы реализовали функционал построения и отрисовки дерева, осталось за малым - научиться предсказывать\n",
    "метку класса поданного на вход объекта.\n",
    "\n",
    "Сам алгоритм:\n",
    "1. Берем входной объект + корень дерева в качестве рабочего (стартового) узла.\n",
    "\n",
    "2. Берем вопрос (предикат), который соответствует этому узлу.\n",
    "\n",
    "3. Если ответ на вопрос для данного входного объекта True, то идем по правой ветви, иначе - по левой.\n",
    "\n",
    "4. Как только оказываемся не в узле, а в листе, обход завершаем, а в качестве предсказания берем тот класс, который\n",
    "   встречается в листе чаще всего."
   ]
  },
  {
   "cell_type": "code",
   "execution_count": 119,
   "metadata": {},
   "outputs": [
    {
     "name": "stdout",
     "output_type": "stream",
     "text": [
      "Predicted label from tree - Lemon\n"
     ]
    }
   ],
   "source": [
    "def make_predictions(node, row):\n",
    "    \"\"\"\n",
    "    Сделаем рекурсивную реализацию\n",
    "    \"\"\"\n",
    "    \n",
    "    if isinstance(node, Leaf):\n",
    "        return max(node.predictions, key=node.predictions.get)\n",
    "    \n",
    "    question_answer = node.question.match(row)\n",
    "    \n",
    "    if question_answer == True:\n",
    "        return make_predictions(node.right_branch, row)\n",
    "    else:\n",
    "        return make_predictions(node.left_branch, row)\n",
    "        \n",
    "pred = make_predictions(tree, ['Yellow', 2])\n",
    "print(f\"Predicted label from tree - {pred}\")"
   ]
  },
  {
   "cell_type": "markdown",
   "metadata": {},
   "source": [
    "### Задание (опциональное)\n",
    "\n",
    "1. Вместо Gini подставить энтропию Шеннона и посмотреть на результат\n",
    "2. Поиграться с обучающей выборкой\n",
    "3. Реализовать критерий остановы max_depth\n",
    "3. Реализовать критерий остановы min_samples_leaf"
   ]
  },
  {
   "cell_type": "markdown",
   "metadata": {},
   "source": [
    "## Часть 2. Практика"
   ]
  },
  {
   "cell_type": "markdown",
   "metadata": {},
   "source": [
    "### Стратегии валидации\n",
    "\n",
    "На последнем занятии были вопросы про валидацию, поэтому более подробно разберем эту тему"
   ]
  },
  {
   "cell_type": "markdown",
   "metadata": {},
   "source": [
    "### train_test_split\n",
    "\n",
    "Простой метод, который бьет вашу исходную выборку на 2 части - на train и test (hold-out множество).\n",
    "\n",
    "Сгенерируем данные для начала"
   ]
  },
  {
   "cell_type": "code",
   "execution_count": 142,
   "metadata": {},
   "outputs": [],
   "source": [
    "import numpy as np\n",
    "import pandas as pd\n",
    "\n",
    "from sklearn.model_selection import train_test_split"
   ]
  },
  {
   "cell_type": "code",
   "execution_count": 153,
   "metadata": {},
   "outputs": [
    {
     "data": {
      "text/html": [
       "<div>\n",
       "<style scoped>\n",
       "    .dataframe tbody tr th:only-of-type {\n",
       "        vertical-align: middle;\n",
       "    }\n",
       "\n",
       "    .dataframe tbody tr th {\n",
       "        vertical-align: top;\n",
       "    }\n",
       "\n",
       "    .dataframe thead th {\n",
       "        text-align: right;\n",
       "    }\n",
       "</style>\n",
       "<table border=\"1\" class=\"dataframe\">\n",
       "  <thead>\n",
       "    <tr style=\"text-align: right;\">\n",
       "      <th></th>\n",
       "      <th>x0</th>\n",
       "      <th>x1</th>\n",
       "      <th>y</th>\n",
       "    </tr>\n",
       "  </thead>\n",
       "  <tbody>\n",
       "    <tr>\n",
       "      <th>0</th>\n",
       "      <td>-0.359447</td>\n",
       "      <td>-1.865899</td>\n",
       "      <td>0</td>\n",
       "    </tr>\n",
       "    <tr>\n",
       "      <th>1</th>\n",
       "      <td>0.061335</td>\n",
       "      <td>0.950723</td>\n",
       "      <td>0</td>\n",
       "    </tr>\n",
       "    <tr>\n",
       "      <th>2</th>\n",
       "      <td>-0.105923</td>\n",
       "      <td>-0.082355</td>\n",
       "      <td>0</td>\n",
       "    </tr>\n",
       "    <tr>\n",
       "      <th>3</th>\n",
       "      <td>-0.915624</td>\n",
       "      <td>-0.183605</td>\n",
       "      <td>0</td>\n",
       "    </tr>\n",
       "    <tr>\n",
       "      <th>4</th>\n",
       "      <td>-0.301842</td>\n",
       "      <td>0.908814</td>\n",
       "      <td>0</td>\n",
       "    </tr>\n",
       "  </tbody>\n",
       "</table>\n",
       "</div>"
      ],
      "text/plain": [
       "         x0        x1  y\n",
       "0 -0.359447 -1.865899  0\n",
       "1  0.061335  0.950723  0\n",
       "2 -0.105923 -0.082355  0\n",
       "3 -0.915624 -0.183605  0\n",
       "4 -0.301842  0.908814  0"
      ]
     },
     "execution_count": 153,
     "metadata": {},
     "output_type": "execute_result"
    }
   ],
   "source": [
    "X = np.random.normal(size=(1000, 2))\n",
    "y = [0 if i < 700 else 1 for i in range(1000)]\n",
    "\n",
    "data = pd.DataFrame()\n",
    "data[\"x0\"] = X[:, 0]\n",
    "data[\"x1\"] = X[:, 1]\n",
    "data[\"y\"] = y\n",
    "\n",
    "data.head()"
   ]
  },
  {
   "cell_type": "markdown",
   "metadata": {},
   "source": [
    "Теперь, когда у нас есть данные, наша задача их разбить на 2 части - train выборку и test выборку.\n",
    "\n",
    "Воспользуемся для этого методом train_test_split"
   ]
  },
  {
   "cell_type": "code",
   "execution_count": 154,
   "metadata": {},
   "outputs": [],
   "source": [
    "feature_cols = [col for col in data.columns if col != 'y']\n",
    "\n",
    "X_train, X_test, y_train, y_test = train_test_split(data[feature_cols], data.y, test_size=0.3, shuffle=False)"
   ]
  },
  {
   "cell_type": "code",
   "execution_count": 155,
   "metadata": {},
   "outputs": [
    {
     "data": {
      "text/plain": [
       "(700, 300)"
      ]
     },
     "execution_count": 155,
     "metadata": {},
     "output_type": "execute_result"
    }
   ],
   "source": [
    "X_train.shape[0], X_test.shape[0]"
   ]
  },
  {
   "cell_type": "markdown",
   "metadata": {},
   "source": [
    "Обратим внимание на параметр shuffle = False.\n",
    "Если shuffle на этапе разбиения выключен, а в test_size вы указали 0.3, это означает что:\n",
    "\n",
    "* Размер train - 70% исходной выборки\n",
    "* Размер тест - 30% исходной выборки\n",
    "\n",
    "Помимо этого - в train попадет первые 70% записей, в test - 30% последних записей. Т.е. в каком порядке данные шли,\n",
    "в таком порядке они и будут разбиты.\n",
    "Давайте убедимся в этом, посмотрев на верхнюю часть X_train и сравнив с первым записями в data (data.head() выше)."
   ]
  },
  {
   "cell_type": "code",
   "execution_count": 156,
   "metadata": {},
   "outputs": [
    {
     "data": {
      "text/html": [
       "<div>\n",
       "<style scoped>\n",
       "    .dataframe tbody tr th:only-of-type {\n",
       "        vertical-align: middle;\n",
       "    }\n",
       "\n",
       "    .dataframe tbody tr th {\n",
       "        vertical-align: top;\n",
       "    }\n",
       "\n",
       "    .dataframe thead th {\n",
       "        text-align: right;\n",
       "    }\n",
       "</style>\n",
       "<table border=\"1\" class=\"dataframe\">\n",
       "  <thead>\n",
       "    <tr style=\"text-align: right;\">\n",
       "      <th></th>\n",
       "      <th>x0</th>\n",
       "      <th>x1</th>\n",
       "    </tr>\n",
       "  </thead>\n",
       "  <tbody>\n",
       "    <tr>\n",
       "      <th>0</th>\n",
       "      <td>-0.359447</td>\n",
       "      <td>-1.865899</td>\n",
       "    </tr>\n",
       "    <tr>\n",
       "      <th>1</th>\n",
       "      <td>0.061335</td>\n",
       "      <td>0.950723</td>\n",
       "    </tr>\n",
       "    <tr>\n",
       "      <th>2</th>\n",
       "      <td>-0.105923</td>\n",
       "      <td>-0.082355</td>\n",
       "    </tr>\n",
       "    <tr>\n",
       "      <th>3</th>\n",
       "      <td>-0.915624</td>\n",
       "      <td>-0.183605</td>\n",
       "    </tr>\n",
       "    <tr>\n",
       "      <th>4</th>\n",
       "      <td>-0.301842</td>\n",
       "      <td>0.908814</td>\n",
       "    </tr>\n",
       "  </tbody>\n",
       "</table>\n",
       "</div>"
      ],
      "text/plain": [
       "         x0        x1\n",
       "0 -0.359447 -1.865899\n",
       "1  0.061335  0.950723\n",
       "2 -0.105923 -0.082355\n",
       "3 -0.915624 -0.183605\n",
       "4 -0.301842  0.908814"
      ]
     },
     "execution_count": 156,
     "metadata": {},
     "output_type": "execute_result"
    }
   ],
   "source": [
    "X_train[:5]"
   ]
  },
  {
   "cell_type": "markdown",
   "metadata": {},
   "source": [
    "Как видим - ровно это и произошло. Какие могут быть последствия?\n",
    "\n",
    "Допустим следующее - у нас в датасете 70 процентов ноликов, 30 процентов единичек. Если они расположены так, что сначала идут нолики, а потом только 1, то в train попадут только нули, в test - единички. Поэтому обучать модель на таком разбиении не имеет смысла, т.к. она просто переобучится под классификацию нулей.\n",
    "\n",
    "Посмотрим более внимательно на наши данные (мы их сгенерировали именно в таком порядке)."
   ]
  },
  {
   "cell_type": "code",
   "execution_count": 159,
   "metadata": {},
   "outputs": [
    {
     "data": {
      "text/plain": [
       "(array([0]), array([1]))"
      ]
     },
     "execution_count": 159,
     "metadata": {},
     "output_type": "execute_result"
    }
   ],
   "source": [
    "np.unique(y_train), np.unique(y_test)"
   ]
  },
  {
   "cell_type": "markdown",
   "metadata": {},
   "source": [
    "Как видим, действительно в обучающей выборке нули, а в тестовой - единицы. Какой может быть выход из этой ситуации?\n",
    "\n",
    "Попробуем включить shuffle на разбиении и посмотрим на результат."
   ]
  },
  {
   "cell_type": "code",
   "execution_count": 174,
   "metadata": {},
   "outputs": [],
   "source": [
    "X_train, X_test, y_train, y_test = train_test_split(data[feature_cols], data.y, test_size=0.3, shuffle=True)"
   ]
  },
  {
   "cell_type": "code",
   "execution_count": 175,
   "metadata": {},
   "outputs": [
    {
     "data": {
      "text/plain": [
       "(array([0, 1]), array([0, 1]))"
      ]
     },
     "execution_count": 175,
     "metadata": {},
     "output_type": "execute_result"
    }
   ],
   "source": [
    "np.unique(y_train), np.unique(y_test)"
   ]
  },
  {
   "cell_type": "code",
   "execution_count": 176,
   "metadata": {},
   "outputs": [
    {
     "name": "stdout",
     "output_type": "stream",
     "text": [
      "Values - [0 1]\n",
      "Counts - [491 209]\n",
      "Frequencies - 0.7014285714285714, 0.2985714285714286\n"
     ]
    }
   ],
   "source": [
    "vals, train_counts = np.unique(y_train, return_counts=True)\n",
    "print(f\"Values - {vals}\")\n",
    "print(f\"Counts - {train_counts}\")\n",
    "print(f\"Frequencies - {train_counts[0] / X_train.shape[0]}, {train_counts[1] / X_train.shape[0]}\")"
   ]
  },
  {
   "cell_type": "code",
   "execution_count": 177,
   "metadata": {},
   "outputs": [
    {
     "name": "stdout",
     "output_type": "stream",
     "text": [
      "Values - [0 1]\n",
      "Counts - [209  91]\n",
      "Frequencies - 0.6966666666666667, 0.30333333333333334\n"
     ]
    }
   ],
   "source": [
    "vals, test_counts = np.unique(y_test, return_counts=True)\n",
    "print(f\"Values - {vals}\")\n",
    "print(f\"Counts - {test_counts}\")\n",
    "print(f\"Frequencies - {test_counts[0] / X_test.shape[0]}, {test_counts[1] / X_test.shape[0]}\")"
   ]
  },
  {
   "cell_type": "markdown",
   "metadata": {},
   "source": [
    "Теперь, вместо того, чтобы сразу разбить исходную выборку на train и test, sklearn\n",
    "сначала рандомно перемешивает исходный датасет, и только потом делает разбиение.\n",
    "Плюс данного подхода в том, что этот процесс случайный, поэтому балансы классов будут более-менее\n",
    "одинаковы в train и test'е."
   ]
  },
  {
   "cell_type": "markdown",
   "metadata": {},
   "source": [
    "Теперь вспомним про решающие деревья и их свойство к переобучению. Учитывая данную особенность, нам необходимо, чтобы\n",
    "в train и test были одинаковые пропорции 0 и 1. Если эти пропорции будут отличаться, то:\n",
    "\n",
    "* Модель сильнее переобучится под один класс (и недообучится под другой)\n",
    "* Значение метрик качества на тестовой выборке не будет отражать то, насколько хорошо дерево будет отделять один класс от другого.\n",
    "\n",
    "Поэтому нам необходимо, чтобы соотношение между 0 и 1 было одинаковым как в test, так и в train (70% нолики, 30% единички). Сделать это можно,\n",
    "воспользовавшись опцией stratify"
   ]
  },
  {
   "cell_type": "code",
   "execution_count": 178,
   "metadata": {},
   "outputs": [],
   "source": [
    "X_train, X_test, y_train, y_test = train_test_split(data[feature_cols], data.y, test_size=0.3, stratify=data.y)"
   ]
  },
  {
   "cell_type": "code",
   "execution_count": 179,
   "metadata": {},
   "outputs": [
    {
     "name": "stdout",
     "output_type": "stream",
     "text": [
      "Values - [0 1]\n",
      "Counts - [490 210]\n",
      "Frequencies - 0.7, 0.3\n"
     ]
    }
   ],
   "source": [
    "vals, train_counts = np.unique(y_train, return_counts=True)\n",
    "print(f\"Values - {vals}\")\n",
    "print(f\"Counts - {train_counts}\")\n",
    "print(f\"Frequencies - {train_counts[0] / X_train.shape[0]}, {train_counts[1] / X_train.shape[0]}\")"
   ]
  },
  {
   "cell_type": "code",
   "execution_count": 180,
   "metadata": {},
   "outputs": [
    {
     "name": "stdout",
     "output_type": "stream",
     "text": [
      "Values - [0 1]\n",
      "Counts - [210  90]\n",
      "Frequencies - 0.7, 0.3\n"
     ]
    }
   ],
   "source": [
    "vals, test_counts = np.unique(y_test, return_counts=True)\n",
    "print(f\"Values - {vals}\")\n",
    "print(f\"Counts - {test_counts}\")\n",
    "print(f\"Frequencies - {test_counts[0] / X_test.shape[0]}, {test_counts[1] / X_test.shape[0]}\")"
   ]
  },
  {
   "cell_type": "markdown",
   "metadata": {},
   "source": [
    "На данном примере видим, что именно это мы и получили"
   ]
  },
  {
   "cell_type": "markdown",
   "metadata": {},
   "source": [
    "### KFold валидация\n",
    "\n",
    "Пожалуй, самая распространенная схема кросс-валидации. Эмпирический метод оценки качества моделей.\n",
    "Основная идея - делаем множества разбиений исходной выборки на train/test, на каждом разбиении\n",
    "обучаем модель и замеряем качество, а затем усредняем это качество, получая итоговое значение."
   ]
  },
  {
   "cell_type": "markdown",
   "metadata": {},
   "source": [
    "<img src='img/kfolds.png' Width=800>"
   ]
  },
  {
   "cell_type": "markdown",
   "metadata": {},
   "source": [
    "В чем достоинство данного подхода? Модель обучается и тестируется на разных подвыборках, поэтому\n",
    "на основании разбоса качества можно судить о том, насколько сильно мы переобучаемся, ведь в случае хорошей\n",
    "обобщающей способности он будет минимальным.\n",
    "\n",
    "Пример использования ниже."
   ]
  },
  {
   "cell_type": "code",
   "execution_count": 185,
   "metadata": {},
   "outputs": [
    {
     "name": "stdout",
     "output_type": "stream",
     "text": [
      "Fold #0\n",
      "train values - [0 1], test_values - [0]\n",
      "Fold #1\n",
      "train values - [0 1], test_values - [0]\n",
      "Fold #2\n",
      "train values - [0 1], test_values - [0]\n",
      "Fold #3\n",
      "train values - [0 1], test_values - [0 1]\n",
      "Fold #4\n",
      "train values - [0 1], test_values - [1]\n"
     ]
    }
   ],
   "source": [
    "from sklearn.model_selection import KFold\n",
    "\n",
    "folds = KFold(5, shuffle=False) # 5 - стандартное количество, которого обычно хватает для оценки\n",
    "\n",
    "for i, (train_idx, val_idx) in enumerate(folds.split(data[feature_cols], data.y)):\n",
    "    print(f\"Fold #{i}\")\n",
    "    X_train = data[feature_cols].values[train_idx]\n",
    "    y_train = data.y.values[train_idx]\n",
    "    X_test = data[feature_cols].values[val_idx]\n",
    "    y_test = data.y.values[val_idx]\n",
    "    \n",
    "    train_vals, train_counts = np.unique(y_train, return_counts=True)\n",
    "    test_vals, test_counts = np.unique(y_test, return_counts=True)\n",
    "    \n",
    "    print(f\"train values - {train_vals}, test_values - {test_vals}\")"
   ]
  },
  {
   "cell_type": "markdown",
   "metadata": {},
   "source": [
    "Если не делать shuffle, то аналогично примеру выше с train_test_split, может оказаться так, что\n",
    "в train будут какие-то одни объекты, а в test - другие, поэтому оценка качества будет неправильной.\n",
    "Чтобы этого избежать, необходимо использовать KFold c shuffle = True."
   ]
  },
  {
   "cell_type": "code",
   "execution_count": 189,
   "metadata": {},
   "outputs": [
    {
     "name": "stdout",
     "output_type": "stream",
     "text": [
      "Fold #0\n",
      "train freqs - 0.69375, 0.30625\n",
      "test freqs - 0.725, 0.275\n",
      "Fold #1\n",
      "train freqs - 0.70625, 0.29375\n",
      "test freqs - 0.675, 0.325\n",
      "Fold #2\n",
      "train freqs - 0.6975, 0.3025\n",
      "test freqs - 0.71, 0.29\n",
      "Fold #3\n",
      "train freqs - 0.6975, 0.3025\n",
      "test freqs - 0.71, 0.29\n",
      "Fold #4\n",
      "train freqs - 0.705, 0.295\n",
      "test freqs - 0.68, 0.32\n"
     ]
    }
   ],
   "source": [
    "from sklearn.model_selection import KFold\n",
    "\n",
    "folds = KFold(5, shuffle=True)\n",
    "\n",
    "for i, (train_idx, val_idx) in enumerate(folds.split(data[feature_cols], data.y)):\n",
    "    print(f\"Fold #{i}\")\n",
    "    X_train = data[feature_cols].values[train_idx]\n",
    "    y_train = data.y.values[train_idx]\n",
    "    X_test = data[feature_cols].values[val_idx]\n",
    "    y_test = data.y.values[val_idx]\n",
    "    \n",
    "    train_vals, train_counts = np.unique(y_train, return_counts=True)\n",
    "    test_vals, test_counts = np.unique(y_test, return_counts=True)\n",
    "\n",
    "    print(f\"train freqs - {train_counts[0] / X_train.shape[0]}, {train_counts[1] / X_train.shape[0]}\")\n",
    "    print(f\"test freqs - {test_counts[0] / X_test.shape[0]}, {test_counts[1] / X_test.shape[0]}\")"
   ]
  },
  {
   "cell_type": "markdown",
   "metadata": {},
   "source": [
    "Для того, чтобы соотношения классов были одинаковыми во всех fold'ах (разбиениях),\n",
    "нужно использовать StratifiedKFold, указав колонку, по которой необходимо делать стратифицированное разбиение."
   ]
  },
  {
   "cell_type": "code",
   "execution_count": 190,
   "metadata": {},
   "outputs": [
    {
     "name": "stdout",
     "output_type": "stream",
     "text": [
      "Fold #0\n",
      "train freqs - 0.7, 0.3\n",
      "test freqs - 0.7, 0.3\n",
      "Fold #1\n",
      "train freqs - 0.7, 0.3\n",
      "test freqs - 0.7, 0.3\n",
      "Fold #2\n",
      "train freqs - 0.7, 0.3\n",
      "test freqs - 0.7, 0.3\n",
      "Fold #3\n",
      "train freqs - 0.7, 0.3\n",
      "test freqs - 0.7, 0.3\n",
      "Fold #4\n",
      "train freqs - 0.7, 0.3\n",
      "test freqs - 0.7, 0.3\n"
     ]
    }
   ],
   "source": [
    "from sklearn.model_selection import StratifiedKFold\n",
    "\n",
    "folds = StratifiedKFold(5)\n",
    "\n",
    "for i, (train_idx, val_idx) in enumerate(folds.split(data[feature_cols], data.y, data.y)):\n",
    "    print(f\"Fold #{i}\")\n",
    "    X_train = data[feature_cols].values[train_idx]\n",
    "    y_train = data.y.values[train_idx]\n",
    "    X_test = data[feature_cols].values[val_idx]\n",
    "    y_test = data.y.values[val_idx]\n",
    "    \n",
    "    train_vals, train_counts = np.unique(y_train, return_counts=True)\n",
    "    test_vals, test_counts = np.unique(y_test, return_counts=True)\n",
    "\n",
    "    print(f\"train freqs - {train_counts[0] / X_train.shape[0]}, {train_counts[1] / X_train.shape[0]}\")\n",
    "    print(f\"test freqs - {test_counts[0] / X_test.shape[0]}, {test_counts[1] / X_test.shape[0]}\")"
   ]
  },
  {
   "cell_type": "markdown",
   "metadata": {},
   "source": [
    "И ровно это и произошло, т.к. в метод split третьим аргументом мы передали колонку, по которой нужно подсчитать соотношение между 0 и 1, и именно в этих пропорциях делать разбиения."
   ]
  },
  {
   "cell_type": "markdown",
   "metadata": {},
   "source": [
    "### Задание\n",
    "\n",
    "Самостоятельно реализовать на pandas аналог стратифицированный train_test_split.\n",
    "\n",
    "Подсказки:\n",
    "\n",
    "- метод sample из Pandas\n",
    "- left outer join"
   ]
  },
  {
   "cell_type": "code",
   "execution_count": null,
   "metadata": {},
   "outputs": [],
   "source": []
  }
 ],
 "metadata": {
  "kernelspec": {
   "display_name": "Python 3",
   "language": "python",
   "name": "python3"
  },
  "language_info": {
   "codemirror_mode": {
    "name": "ipython",
    "version": 3
   },
   "file_extension": ".py",
   "mimetype": "text/x-python",
   "name": "python",
   "nbconvert_exporter": "python",
   "pygments_lexer": "ipython3",
   "version": "3.6.5"
  }
 },
 "nbformat": 4,
 "nbformat_minor": 2
}
